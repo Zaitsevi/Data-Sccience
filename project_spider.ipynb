{
 "cells": [
  {
   "cell_type": "code",
   "execution_count": 1,
   "id": "f7f5aa96",
   "metadata": {},
   "outputs": [],
   "source": [
    "import urllib.request\n",
    "from bs4 import BeautifulSoup\n",
    "import re\n",
    "import xlwt\n",
    "import base64\n",
    "import pandas as pd\n",
    "import openpyxl"
   ]
  },
  {
   "cell_type": "code",
   "execution_count": 2,
   "id": "90d3a9f9",
   "metadata": {},
   "outputs": [],
   "source": [
    "def askurl(url):\n",
    "    headers={\n",
    "        \"User-Agent\":\"Mozilla/5.0 (Windows NT 10.0; Win64; x64) AppleWebKit/537.36 (KHTML, like Gecko) Chrome/101.0.4951.54 Safari/537.36 Edg/101.0.1210.39\",\n",
    "        \"Cookie\":\"__utmz=156575163.1649822119.1.1.utmcsr=(direct)|utmccn=(direct)|utmcmd=(none); Hm_lvt_78c58f01938e4d85eaf619eae71b4ed1=1651829630,1651994053,1652142442,1652510164; __utma=156575163.1102508704.1649822119.1651829639.1652511936.3; __utmc=156575163; log=; Hm_lpvt_78c58f01938e4d85eaf619eae71b4ed1=1652513765; v=A9JwZlzr5BJkhxjukqVzjDeLI5Ox49dsCObKpJwr_9txhHwNhHMmjdh3Grdv\"\n",
    "    }\n",
    "    req=urllib.request.Request(url=url,headers=headers)\n",
    "    html=\"\"\n",
    "    try:\n",
    "        resp=urllib.request.urlopen(req)\n",
    "        t=resp.read()\n",
    "        html=t.decode(\"GBK\")\n",
    "    except urllib.error.URLError as e:\n",
    "        if hasattr(e,\"code\"):\n",
    "            print(e.code)\n",
    "        if hasattr(e,\"reason\"):\n",
    "            print(e.reason)\n",
    "    return html"
   ]
  },
  {
   "cell_type": "code",
   "execution_count": 3,
   "id": "b805cb7b",
   "metadata": {},
   "outputs": [],
   "source": [
    "def getdata(url):\n",
    "    datalist=[]\n",
    "    \n",
    "    for i in range(1,233):\n",
    "        ur=url+str(i)\n",
    "        html=askurl(ur)\n",
    "        \n",
    "        s=BeautifulSoup(html,\"lxml\")\n",
    "        \n",
    "        for x in s.find_all('tr')[1:]:\n",
    "            data=[]\n",
    "            for i in range(2,len(x.contents)):\n",
    "                if i%2!=0:\n",
    "                    data.append(x.contents[i].string)\n",
    "                \n",
    "            datalist.append({'股票代码':data[0],\n",
    "                             '股票名称':data[1],\n",
    "                             '现价':data[2],\n",
    "                             '涨跌幅':data[3],\n",
    "                             '涨跌':data[4],\n",
    "                             '涨速':data[5],\n",
    "                             '换手':data[6],\n",
    "                             '量比':data[7],\n",
    "                             '振幅':data[8],\n",
    "                             '成交额':data[9],\n",
    "                             '流通股':data[10],\n",
    "                             '流通市值':data[11],\n",
    "                             '市盈率':data[12]})\n",
    "    return datalist\n",
    "            "
   ]
  },
  {
   "cell_type": "code",
   "execution_count": 4,
   "id": "9f6417cf",
   "metadata": {},
   "outputs": [
    {
     "name": "stdout",
     "output_type": "stream",
     "text": [
      "Finish!\n"
     ]
    }
   ],
   "source": [
    "def main():\n",
    "    url=\"http://q.10jqka.com.cn/index/index/board/all/field/zdf/order/desc/page/\"\n",
    "    savepath=\"C:/Users/HP/Desktop/Data Science/project/0520.xlsx\"\n",
    "    li=getdata(url)\n",
    "    df=pd.DataFrame(li)\n",
    "    df.to_excel(savepath, index=False)\n",
    "    \n",
    "    print('Finish!')\n",
    "    \n",
    "main()"
   ]
  }
 ],
 "metadata": {
  "kernelspec": {
   "display_name": "Python 3",
   "language": "python",
   "name": "python3"
  },
  "language_info": {
   "codemirror_mode": {
    "name": "ipython",
    "version": 3
   },
   "file_extension": ".py",
   "mimetype": "text/x-python",
   "name": "python",
   "nbconvert_exporter": "python",
   "pygments_lexer": "ipython3",
   "version": "3.8.8"
  }
 },
 "nbformat": 4,
 "nbformat_minor": 5
}
